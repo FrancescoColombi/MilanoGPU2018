{
 "cells": [
  {
   "cell_type": "markdown",
   "metadata": {},
   "source": [
    "# License\n",
    "\n",
    "    Jupyter notebook for accessing CUDA\n",
    "    Copyright (C) 2018 Andre.Brodtkorb@ifi.uio.no, changed in October by Francesco Colombi\n",
    "\n",
    "    This program is free software: you can redistribute it and/or modify\n",
    "    it under the terms of the GNU General Public License as published by\n",
    "    the Free Software Foundation, either version 3 of the License, or\n",
    "    (at your option) any later version.\n",
    "\n",
    "    This program is distributed in the hope that it will be useful,\n",
    "    but WITHOUT ANY WARRANTY; without even the implied warranty of\n",
    "    MERCHANTABILITY or FITNESS FOR A PARTICULAR PURPOSE.  See the\n",
    "    GNU General Public License for more details.\n",
    "\n",
    "    You should have received a copy of the GNU General Public License\n",
    "    along with this program.  If not, see <http://www.gnu.org/licenses/>."
   ]
  },
  {
   "cell_type": "code",
   "execution_count": 8,
   "metadata": {},
   "outputs": [],
   "source": [
    "#Lets have matplotlib \"inline\"\n",
    "%matplotlib inline\n",
    "\n",
    "#Import packages we need\n",
    "import numpy as np\n",
    "import pycuda.compiler as cuda_compiler\n",
    "from pycuda.gpuarray import GPUArray\n",
    "import pycuda.driver as cuda_driver\n",
    "\n",
    "from matplotlib import pyplot as plt"
   ]
  },
  {
   "cell_type": "code",
   "execution_count": 9,
   "metadata": {},
   "outputs": [],
   "source": [
    "#Initialize CUDA - must be first call to CUDA!\n",
    "cuda_driver.init()"
   ]
  },
  {
   "cell_type": "code",
   "execution_count": 10,
   "metadata": {},
   "outputs": [
    {
     "name": "stdout",
     "output_type": "stream",
     "text": [
      "Using 'Tesla K80'\n",
      " => compute capability: (3, 7)\n",
      " => memory: 10333 / 11441 MB available\n"
     ]
    }
   ],
   "source": [
    "#Create CUDA context\n",
    "cuda_device = cuda_driver.Device(0)\n",
    "print(\"Using '{:s}'\".format(cuda_device.name()))\n",
    "print(\" => compute capability: {:s}\".format(str(cuda_device.compute_capability())))\n",
    "context = cuda_device.make_context()\n",
    "free, total = cuda_driver.mem_get_info()\n",
    "print(\" => memory: {:d} / {:d} MB available\".format(int(free/(1024*1024)), int(total/(1024*1024))))"
   ]
  },
  {
   "cell_type": "code",
   "execution_count": 49,
   "metadata": {},
   "outputs": [],
   "source": [
    "cuda_kernel = \"\"\"\n",
    "__global__ void addVectorKernel(float* c, float* a, float* b) {\n",
    "    unsigned int i = blockIdx.x*blockDim.x + threadIdx.x;\n",
    "    c[i] = a[i] + b[i];\n",
    "}\n",
    "\n",
    "__global__ void addMatrixKernel(float* c, float* a, float* b, int cols){\n",
    "    unsigned int i = blockIdx.x*blockDim.x + threadIdx.x;\n",
    "    unsigned int j = blockIdx.y*blockDim.y + threadIdx.y;\n",
    "    \n",
    "    //Pseudocode\n",
    "    //c[j][i] = a[j][i] + b[j][i]\n",
    "    unsigned int k = j*cols + i;\n",
    "    \n",
    "    c[k] = a[k] + b[k];\n",
    "}\n",
    "\"\"\"\n",
    "module = cuda_compiler.SourceModule(cuda_kernel)\n",
    "kernel = module.get_function(\"addMatrixKernel\");"
   ]
  },
  {
   "cell_type": "code",
   "execution_count": 50,
   "metadata": {},
   "outputs": [
    {
     "name": "stderr",
     "output_type": "stream",
     "text": [
      "/usr/lib/python3/dist-packages/matplotlib/figure.py:418: UserWarning: matplotlib is currently using a non-GUI backend, so cannot show the figure\n",
      "  \"matplotlib is currently using a non-GUI backend, \"\n"
     ]
    },
    {
     "data": {
      "image/png": "[encoded data removed]",
      "text/plain": [
       "<matplotlib.figure.Figure at 0x7f6178da5da0>"
      ]
     },
     "metadata": {
      "needs_background": "light"
     },
     "output_type": "display_data"
    }
   ],
   "source": [
    "#Size of our test\n",
    "test_size = (16,24)\n",
    "\n",
    "#Create test input / output data\n",
    "a = np.random.random(test_size).astype(np.float32)\n",
    "b = np.random.random(test_size).astype(np.float32)\n",
    "c = np.empty_like(a)\n",
    "\n",
    "fig = plt.figure(figsize=(12,8))\n",
    "plt.imshow(a)\n",
    "plt.colorbar()\n",
    "fig.show()"
   ]
  },
  {
   "cell_type": "code",
   "execution_count": 51,
   "metadata": {},
   "outputs": [
    {
     "name": "stdout",
     "output_type": "stream",
     "text": [
      "(16, 24)\n"
     ]
    }
   ],
   "source": [
    "print(a.shape)"
   ]
  },
  {
   "cell_type": "code",
   "execution_count": 52,
   "metadata": {},
   "outputs": [],
   "source": [
    "#Upload data to the device\n",
    "a_g = GPUArray(a.shape, np.float32)\n",
    "b_g = GPUArray(b.shape, np.float32)\n",
    "a_g.set(a)\n",
    "b_g.set(b)"
   ]
  },
  {
   "cell_type": "code",
   "execution_count": 53,
   "metadata": {},
   "outputs": [],
   "source": [
    "#Allocate output data\n",
    "c_g = GPUArray(c.shape, np.float32)"
   ]
  },
  {
   "cell_type": "code",
   "execution_count": 54,
   "metadata": {},
   "outputs": [
    {
     "name": "stdout",
     "output_type": "stream",
     "text": [
      "Domain size is (16, 24)\n",
      "Block size is (8, 8, 1)\n",
      "Grid size is (2, 3, 1)\n"
     ]
    }
   ],
   "source": [
    "# a.shape = [rows, colums] => [y, x]\n",
    "main_size = (a.shape[1], a.shape[0]) # now domain size is [x, y]\n",
    "block_size = (8,8,1) # this needs to be [x, y, z]\n",
    "grid_size = (domain_size[0] // block_size[0], domain_size[1] // block_size[1], 1)\n",
    "\n",
    "print(\"Domain size is \" + str(domain_size))\n",
    "print(\"Block size is \" + str(block_size))\n",
    "print(\"Grid size is \" + str(grid_size))"
   ]
  },
  {
   "cell_type": "code",
   "execution_count": 55,
   "metadata": {},
   "outputs": [
    {
     "data": {
      "text/plain": [
       "array([[0.45990768, 0.91668046, 1.4105393 , 0.34745952, 0.65285075,\n",
       "        1.0225117 , 1.2362087 , 1.133173  , 0.9340662 , 0.637317  ,\n",
       "        1.200995  , 0.82654405, 1.1859999 , 0.77612376, 1.6129279 ,\n",
       "        1.7529459 , 0.5582305 , 1.0733318 , 1.4718173 , 1.1217893 ,\n",
       "        1.1844687 , 0.8559757 , 0.8998289 , 1.534611  ],\n",
       "       [1.4479098 , 0.87356955, 1.1927493 , 1.1864641 , 1.3501916 ,\n",
       "        0.80959284, 0.6019679 , 0.78286666, 0.63254   , 0.9127934 ,\n",
       "        0.75062   , 1.8714418 , 1.5994339 , 0.34411883, 0.77178884,\n",
       "        0.88815224, 1.110222  , 1.0765537 , 1.0508207 , 0.15937391,\n",
       "        0.8625333 , 1.3581523 , 0.8173598 , 0.2816632 ],\n",
       "       [0.359751  , 1.6009248 , 1.6448321 , 0.7693787 , 0.9887101 ,\n",
       "        1.3966262 , 0.86131763, 0.8887792 , 1.4666501 , 0.48549402,\n",
       "        0.573619  , 1.2627279 , 0.88126844, 1.1412994 , 0.9729474 ,\n",
       "        0.6566421 , 1.115652  , 0.9370789 , 1.1911966 , 1.6037444 ,\n",
       "        0.9712978 , 1.4081848 , 1.826003  , 0.9271424 ],\n",
       "       [0.688645  , 0.49853587, 0.67257965, 0.9814639 , 0.45328414,\n",
       "        0.46270835, 0.15742949, 0.3669272 , 1.2113396 , 0.7185572 ,\n",
       "        1.1955653 , 0.88171893, 0.651254  , 1.3814315 , 1.0832672 ,\n",
       "        1.1451291 , 0.9792015 , 0.4649402 , 0.36948156, 0.6047593 ,\n",
       "        1.2435182 , 0.92739487, 0.22301167, 1.0410436 ],\n",
       "       [1.1341012 , 1.6908784 , 0.6448145 , 0.5887502 , 0.22011213,\n",
       "        0.6754552 , 0.6749653 , 1.2952136 , 0.7647601 , 0.6587346 ,\n",
       "        0.8432284 , 1.2988088 , 1.4607643 , 1.5173073 , 0.8281639 ,\n",
       "        1.3498303 , 0.7510395 , 1.2237644 , 0.9097056 , 1.5299966 ,\n",
       "        0.66678894, 0.9589389 , 1.4680722 , 1.0209377 ],\n",
       "       [1.1986594 , 0.8040551 , 0.37339824, 1.3996356 , 1.6458616 ,\n",
       "        0.4924306 , 1.1630741 , 1.1267371 , 0.75488245, 0.4619604 ,\n",
       "        0.6549716 , 1.1226598 , 1.4437364 , 0.5222173 , 0.4358836 ,\n",
       "        1.0592093 , 0.2887705 , 1.0660253 , 1.0155766 , 0.4578241 ,\n",
       "        0.6445229 , 0.6840055 , 1.647953  , 0.95887566],\n",
       "       [0.58874387, 1.381622  , 0.47642404, 1.0769128 , 0.89852095,\n",
       "        1.0689974 , 0.8707357 , 0.9113687 , 1.4820545 , 1.6282842 ,\n",
       "        0.7518738 , 0.9228349 , 0.48480764, 0.5495775 , 1.2255863 ,\n",
       "        1.2121003 , 0.6925974 , 0.6454396 , 1.4187684 , 0.64887154,\n",
       "        1.3206255 , 0.75733835, 1.8085141 , 0.8160919 ],\n",
       "       [1.8749762 , 1.0536196 , 0.9383178 , 1.1700202 , 0.9707992 ,\n",
       "        0.73430747, 1.0167845 , 1.5124588 , 0.9738998 , 0.9680817 ,\n",
       "        0.8344782 , 1.1927296 , 0.8694217 , 1.4831035 , 1.2691305 ,\n",
       "        0.93067074, 1.2916145 , 1.7115204 , 1.2810385 , 0.281922  ,\n",
       "        1.0671262 , 0.7858544 , 0.8832729 , 0.8793018 ],\n",
       "       [0.11437297, 0.93606424, 0.48076627, 1.3597112 , 1.3573996 ,\n",
       "        1.7990756 , 0.38302323, 0.4643872 , 1.085086  , 0.36587372,\n",
       "        1.2144325 , 0.2642685 , 1.0982708 , 1.3801959 , 1.0707883 ,\n",
       "        0.8744147 , 1.1911216 , 1.8557446 , 1.7601709 , 1.0025034 ,\n",
       "        1.0484166 , 1.1774707 , 0.73481894, 1.1915166 ],\n",
       "       [0.5193367 , 0.75630325, 1.0833409 , 0.94701433, 0.56632954,\n",
       "        1.1632869 , 1.0222057 , 1.1321564 , 0.8448508 , 1.7177553 ,\n",
       "        1.7180443 , 0.7970041 , 1.8021362 , 0.6077529 , 1.1688685 ,\n",
       "        0.71046954, 0.75385725, 0.94683677, 0.33327177, 1.3319693 ,\n",
       "        0.78136235, 1.2942452 , 0.4767155 , 1.4894323 ],\n",
       "       [0.4826362 , 0.88879055, 1.6356235 , 0.8762933 , 1.1467962 ,\n",
       "        0.7613648 , 1.5415365 , 1.0258132 , 0.6102375 , 0.5924303 ,\n",
       "        0.7968923 , 1.1209112 , 0.6929344 , 0.9599759 , 1.3213427 ,\n",
       "        0.82099146, 1.5421193 , 1.0169077 , 1.6975374 , 1.8030794 ,\n",
       "        1.4282804 , 0.37801456, 1.3240244 , 1.882439  ],\n",
       "       [0.58269393, 1.085063  , 1.4317031 , 0.7646841 , 0.68456846,\n",
       "        1.3543369 , 0.98706824, 0.7966341 , 0.5125436 , 1.4948595 ,\n",
       "        0.8390102 , 0.69647044, 0.8819583 , 0.92276293, 0.27734637,\n",
       "        0.59372926, 0.43807802, 1.2528079 , 1.2243624 , 1.2441349 ,\n",
       "        1.6133094 , 1.5194168 , 1.4303551 , 1.6563294 ],\n",
       "       [0.43926355, 0.99762297, 1.1740924 , 1.1802144 , 0.67294806,\n",
       "        1.7078846 , 0.8987626 , 1.4707062 , 1.3275027 , 1.186756  ,\n",
       "        1.0107994 , 1.3321586 , 0.7364526 , 1.3859761 , 0.8618963 ,\n",
       "        0.9817324 , 0.2814104 , 0.50624216, 1.2525644 , 1.6507828 ,\n",
       "        1.1586139 , 1.5275651 , 1.0178754 , 0.6193051 ],\n",
       "       [1.1246636 , 1.0486159 , 1.2091075 , 1.310283  , 0.6297314 ,\n",
       "        1.3992047 , 1.4877052 , 0.87745976, 1.0554757 , 0.58171475,\n",
       "        0.95874894, 0.3740856 , 1.6899436 , 1.3749582 , 1.9433572 ,\n",
       "        1.0282322 , 1.0785716 , 0.96055144, 0.65096897, 0.7187801 ,\n",
       "        0.89572453, 1.0150182 , 1.1321653 , 1.3744973 ],\n",
       "       [1.1454842 , 0.665907  , 0.503331  , 1.0532641 , 1.283978  ,\n",
       "        0.68694293, 1.0445782 , 1.0022091 , 0.3811944 , 0.51639736,\n",
       "        0.6802087 , 1.2679493 , 0.29433042, 0.46670967, 0.546546  ,\n",
       "        0.9267322 , 1.0284468 , 1.2981362 , 1.0014224 , 0.9069991 ,\n",
       "        0.85326415, 1.2157655 , 0.8835735 , 1.1583699 ],\n",
       "       [1.3680223 , 1.2396066 , 1.0032765 , 0.58202153, 0.97962844,\n",
       "        1.7875512 , 0.90704596, 1.2527792 , 0.7501633 , 1.9224244 ,\n",
       "        1.120706  , 1.0668693 , 1.0894772 , 1.3607022 , 0.5618125 ,\n",
       "        0.9582388 , 0.8271909 , 0.8185052 , 0.77363396, 1.100512  ,\n",
       "        0.43201733, 0.64541245, 0.87985194, 1.2052084 ]], dtype=float32)"
      ]
     },
     "execution_count": 55,
     "metadata": {},
     "output_type": "execute_result"
    }
   ],
   "source": [
    "#Execute program on device\n",
    "kernel(c_g, a_g, b_g, np.int32(domain_size[0]), block=block_size, grid=grid_size)\n",
    "\n",
    "#Copy data from device to host\n",
    "c_g.get(c)"
   ]
  },
  {
   "cell_type": "code",
   "execution_count": 56,
   "metadata": {},
   "outputs": [
    {
     "name": "stdout",
     "output_type": "stream",
     "text": [
      "C   =  [[0.45990768 0.91668046 1.4105393  0.34745952 0.65285075 1.0225117\n",
      "  1.2362087  1.133173   0.9340662  0.637317   1.200995   0.82654405\n",
      "  1.1859999  0.77612376 1.6129279  1.7529459  0.5582305  1.0733318\n",
      "  1.4718173  1.1217893  1.1844687  0.8559757  0.8998289  1.534611  ]\n",
      " [1.4479098  0.87356955 1.1927493  1.1864641  1.3501916  0.80959284\n",
      "  0.6019679  0.78286666 0.63254    0.9127934  0.75062    1.8714418\n",
      "  1.5994339  0.34411883 0.77178884 0.88815224 1.110222   1.0765537\n",
      "  1.0508207  0.15937391 0.8625333  1.3581523  0.8173598  0.2816632 ]\n",
      " [0.359751   1.6009248  1.6448321  0.7693787  0.9887101  1.3966262\n",
      "  0.86131763 0.8887792  1.4666501  0.48549402 0.573619   1.2627279\n",
      "  0.88126844 1.1412994  0.9729474  0.6566421  1.115652   0.9370789\n",
      "  1.1911966  1.6037444  0.9712978  1.4081848  1.826003   0.9271424 ]\n",
      " [0.688645   0.49853587 0.67257965 0.9814639  0.45328414 0.46270835\n",
      "  0.15742949 0.3669272  1.2113396  0.7185572  1.1955653  0.88171893\n",
      "  0.651254   1.3814315  1.0832672  1.1451291  0.9792015  0.4649402\n",
      "  0.36948156 0.6047593  1.2435182  0.92739487 0.22301167 1.0410436 ]\n",
      " [1.1341012  1.6908784  0.6448145  0.5887502  0.22011213 0.6754552\n",
      "  0.6749653  1.2952136  0.7647601  0.6587346  0.8432284  1.2988088\n",
      "  1.4607643  1.5173073  0.8281639  1.3498303  0.7510395  1.2237644\n",
      "  0.9097056  1.5299966  0.66678894 0.9589389  1.4680722  1.0209377 ]\n",
      " [1.1986594  0.8040551  0.37339824 1.3996356  1.6458616  0.4924306\n",
      "  1.1630741  1.1267371  0.75488245 0.4619604  0.6549716  1.1226598\n",
      "  1.4437364  0.5222173  0.4358836  1.0592093  0.2887705  1.0660253\n",
      "  1.0155766  0.4578241  0.6445229  0.6840055  1.647953   0.95887566]\n",
      " [0.58874387 1.381622   0.47642404 1.0769128  0.89852095 1.0689974\n",
      "  0.8707357  0.9113687  1.4820545  1.6282842  0.7518738  0.9228349\n",
      "  0.48480764 0.5495775  1.2255863  1.2121003  0.6925974  0.6454396\n",
      "  1.4187684  0.64887154 1.3206255  0.75733835 1.8085141  0.8160919 ]\n",
      " [1.8749762  1.0536196  0.9383178  1.1700202  0.9707992  0.73430747\n",
      "  1.0167845  1.5124588  0.9738998  0.9680817  0.8344782  1.1927296\n",
      "  0.8694217  1.4831035  1.2691305  0.93067074 1.2916145  1.7115204\n",
      "  1.2810385  0.281922   1.0671262  0.7858544  0.8832729  0.8793018 ]\n",
      " [0.11437297 0.93606424 0.48076627 1.3597112  1.3573996  1.7990756\n",
      "  0.38302323 0.4643872  1.085086   0.36587372 1.2144325  0.2642685\n",
      "  1.0982708  1.3801959  1.0707883  0.8744147  1.1911216  1.8557446\n",
      "  1.7601709  1.0025034  1.0484166  1.1774707  0.73481894 1.1915166 ]\n",
      " [0.5193367  0.75630325 1.0833409  0.94701433 0.56632954 1.1632869\n",
      "  1.0222057  1.1321564  0.8448508  1.7177553  1.7180443  0.7970041\n",
      "  1.8021362  0.6077529  1.1688685  0.71046954 0.75385725 0.94683677\n",
      "  0.33327177 1.3319693  0.78136235 1.2942452  0.4767155  1.4894323 ]\n",
      " [0.4826362  0.88879055 1.6356235  0.8762933  1.1467962  0.7613648\n",
      "  1.5415365  1.0258132  0.6102375  0.5924303  0.7968923  1.1209112\n",
      "  0.6929344  0.9599759  1.3213427  0.82099146 1.5421193  1.0169077\n",
      "  1.6975374  1.8030794  1.4282804  0.37801456 1.3240244  1.882439  ]\n",
      " [0.58269393 1.085063   1.4317031  0.7646841  0.68456846 1.3543369\n",
      "  0.98706824 0.7966341  0.5125436  1.4948595  0.8390102  0.69647044\n",
      "  0.8819583  0.92276293 0.27734637 0.59372926 0.43807802 1.2528079\n",
      "  1.2243624  1.2441349  1.6133094  1.5194168  1.4303551  1.6563294 ]\n",
      " [0.43926355 0.99762297 1.1740924  1.1802144  0.67294806 1.7078846\n",
      "  0.8987626  1.4707062  1.3275027  1.186756   1.0107994  1.3321586\n",
      "  0.7364526  1.3859761  0.8618963  0.9817324  0.2814104  0.50624216\n",
      "  1.2525644  1.6507828  1.1586139  1.5275651  1.0178754  0.6193051 ]\n",
      " [1.1246636  1.0486159  1.2091075  1.310283   0.6297314  1.3992047\n",
      "  1.4877052  0.87745976 1.0554757  0.58171475 0.95874894 0.3740856\n",
      "  1.6899436  1.3749582  1.9433572  1.0282322  1.0785716  0.96055144\n",
      "  0.65096897 0.7187801  0.89572453 1.0150182  1.1321653  1.3744973 ]\n",
      " [1.1454842  0.665907   0.503331   1.0532641  1.283978   0.68694293\n",
      "  1.0445782  1.0022091  0.3811944  0.51639736 0.6802087  1.2679493\n",
      "  0.29433042 0.46670967 0.546546   0.9267322  1.0284468  1.2981362\n",
      "  1.0014224  0.9069991  0.85326415 1.2157655  0.8835735  1.1583699 ]\n",
      " [1.3680223  1.2396066  1.0032765  0.58202153 0.97962844 1.7875512\n",
      "  0.90704596 1.2527792  0.7501633  1.9224244  1.120706   1.0668693\n",
      "  1.0894772  1.3607022  0.5618125  0.9582388  0.8271909  0.8185052\n",
      "  0.77363396 1.100512   0.43201733 0.64541245 0.87985194 1.2052084 ]]\n",
      "Ref =  [[0.45990768 0.91668046 1.4105393  0.34745952 0.65285075 1.0225117\n",
      "  1.2362087  1.133173   0.9340662  0.637317   1.200995   0.82654405\n",
      "  1.1859999  0.77612376 1.6129279  1.7529459  0.5582305  1.0733318\n",
      "  1.4718173  1.1217893  1.1844687  0.8559757  0.8998289  1.534611  ]\n",
      " [1.4479098  0.87356955 1.1927493  1.1864641  1.3501916  0.80959284\n",
      "  0.6019679  0.78286666 0.63254    0.9127934  0.75062    1.8714418\n",
      "  1.5994339  0.34411883 0.77178884 0.88815224 1.110222   1.0765537\n",
      "  1.0508207  0.15937391 0.8625333  1.3581523  0.8173598  0.2816632 ]\n",
      " [0.359751   1.6009248  1.6448321  0.7693787  0.9887101  1.3966262\n",
      "  0.86131763 0.8887792  1.4666501  0.48549402 0.573619   1.2627279\n",
      "  0.88126844 1.1412994  0.9729474  0.6566421  1.115652   0.9370789\n",
      "  1.1911966  1.6037444  0.9712978  1.4081848  1.826003   0.9271424 ]\n",
      " [0.688645   0.49853587 0.67257965 0.9814639  0.45328414 0.46270835\n",
      "  0.15742949 0.3669272  1.2113396  0.7185572  1.1955653  0.88171893\n",
      "  0.651254   1.3814315  1.0832672  1.1451291  0.9792015  0.4649402\n",
      "  0.36948156 0.6047593  1.2435182  0.92739487 0.22301167 1.0410436 ]\n",
      " [1.1341012  1.6908784  0.6448145  0.5887502  0.22011213 0.6754552\n",
      "  0.6749653  1.2952136  0.7647601  0.6587346  0.8432284  1.2988088\n",
      "  1.4607643  1.5173073  0.8281639  1.3498303  0.7510395  1.2237644\n",
      "  0.9097056  1.5299966  0.66678894 0.9589389  1.4680722  1.0209377 ]\n",
      " [1.1986594  0.8040551  0.37339824 1.3996356  1.6458616  0.4924306\n",
      "  1.1630741  1.1267371  0.75488245 0.4619604  0.6549716  1.1226598\n",
      "  1.4437364  0.5222173  0.4358836  1.0592093  0.2887705  1.0660253\n",
      "  1.0155766  0.4578241  0.6445229  0.6840055  1.647953   0.95887566]\n",
      " [0.58874387 1.381622   0.47642404 1.0769128  0.89852095 1.0689974\n",
      "  0.8707357  0.9113687  1.4820545  1.6282842  0.7518738  0.9228349\n",
      "  0.48480764 0.5495775  1.2255863  1.2121003  0.6925974  0.6454396\n",
      "  1.4187684  0.64887154 1.3206255  0.75733835 1.8085141  0.8160919 ]\n",
      " [1.8749762  1.0536196  0.9383178  1.1700202  0.9707992  0.73430747\n",
      "  1.0167845  1.5124588  0.9738998  0.9680817  0.8344782  1.1927296\n",
      "  0.8694217  1.4831035  1.2691305  0.93067074 1.2916145  1.7115204\n",
      "  1.2810385  0.281922   1.0671262  0.7858544  0.8832729  0.8793018 ]\n",
      " [0.11437297 0.93606424 0.48076627 1.3597112  1.3573996  1.7990756\n",
      "  0.38302323 0.4643872  1.085086   0.36587372 1.2144325  0.2642685\n",
      "  1.0982708  1.3801959  1.0707883  0.8744147  1.1911216  1.8557446\n",
      "  1.7601709  1.0025034  1.0484166  1.1774707  0.73481894 1.1915166 ]\n",
      " [0.5193367  0.75630325 1.0833409  0.94701433 0.56632954 1.1632869\n",
      "  1.0222057  1.1321564  0.8448508  1.7177553  1.7180443  0.7970041\n",
      "  1.8021362  0.6077529  1.1688685  0.71046954 0.75385725 0.94683677\n",
      "  0.33327177 1.3319693  0.78136235 1.2942452  0.4767155  1.4894323 ]\n",
      " [0.4826362  0.88879055 1.6356235  0.8762933  1.1467962  0.7613648\n",
      "  1.5415365  1.0258132  0.6102375  0.5924303  0.7968923  1.1209112\n",
      "  0.6929344  0.9599759  1.3213427  0.82099146 1.5421193  1.0169077\n",
      "  1.6975374  1.8030794  1.4282804  0.37801456 1.3240244  1.882439  ]\n",
      " [0.58269393 1.085063   1.4317031  0.7646841  0.68456846 1.3543369\n",
      "  0.98706824 0.7966341  0.5125436  1.4948595  0.8390102  0.69647044\n",
      "  0.8819583  0.92276293 0.27734637 0.59372926 0.43807802 1.2528079\n",
      "  1.2243624  1.2441349  1.6133094  1.5194168  1.4303551  1.6563294 ]\n",
      " [0.43926355 0.99762297 1.1740924  1.1802144  0.67294806 1.7078846\n",
      "  0.8987626  1.4707062  1.3275027  1.186756   1.0107994  1.3321586\n",
      "  0.7364526  1.3859761  0.8618963  0.9817324  0.2814104  0.50624216\n",
      "  1.2525644  1.6507828  1.1586139  1.5275651  1.0178754  0.6193051 ]\n",
      " [1.1246636  1.0486159  1.2091075  1.310283   0.6297314  1.3992047\n",
      "  1.4877052  0.87745976 1.0554757  0.58171475 0.95874894 0.3740856\n",
      "  1.6899436  1.3749582  1.9433572  1.0282322  1.0785716  0.96055144\n",
      "  0.65096897 0.7187801  0.89572453 1.0150182  1.1321653  1.3744973 ]\n",
      " [1.1454842  0.665907   0.503331   1.0532641  1.283978   0.68694293\n",
      "  1.0445782  1.0022091  0.3811944  0.51639736 0.6802087  1.2679493\n",
      "  0.29433042 0.46670967 0.546546   0.9267322  1.0284468  1.2981362\n",
      "  1.0014224  0.9069991  0.85326415 1.2157655  0.8835735  1.1583699 ]\n",
      " [1.3680223  1.2396066  1.0032765  0.58202153 0.97962844 1.7875512\n",
      "  0.90704596 1.2527792  0.7501633  1.9224244  1.120706   1.0668693\n",
      "  1.0894772  1.3607022  0.5618125  0.9582388  0.8271909  0.8185052\n",
      "  0.77363396 1.100512   0.43201733 0.64541245 0.87985194 1.2052084 ]]\n",
      "Sad =  0.0\n"
     ]
    }
   ],
   "source": [
    "#Compute reference using Numpy\n",
    "c_ref = a + b\n",
    "\n",
    "#Print result\n",
    "print(\"C   = \", c)\n",
    "print(\"Ref = \", c_ref)\n",
    "print(\"Sad = \", np.sum(np.abs(c - c_ref)))"
   ]
  },
  {
   "cell_type": "code",
   "execution_count": 57,
   "metadata": {},
   "outputs": [
    {
     "data": {
      "text/plain": [
       "<matplotlib.image.AxesImage at 0x7f6178cc7860>"
      ]
     },
     "execution_count": 57,
     "metadata": {},
     "output_type": "execute_result"
    },
    {
     "data": {
      "image/png": "[encoded data removed]",
      "text/plain": [
       "<matplotlib.figure.Figure at 0x7f6178dcb400>"
      ]
     },
     "metadata": {
      "needs_background": "light"
     },
     "output_type": "display_data"
    }
   ],
   "source": [
    "fig = plt.figure(figsize=(12,8))\n",
    "plt.subplot(1,2,1)\n",
    "plt.imshow(c)\n",
    "plt.subplot(1,2,2)\n",
    "plt.imshow(c_ref)"
   ]
  },
  {
   "cell_type": "code",
   "execution_count": null,
   "metadata": {},
   "outputs": [],
   "source": []
  }
 ],
 "metadata": {
  "kernelspec": {
   "display_name": "Python 3",
   "language": "python",
   "name": "python3"
  },
  "language_info": {
   "codemirror_mode": {
    "name": "ipython",
    "version": 3
   },
   "file_extension": ".py",
   "mimetype": "text/x-python",
   "name": "python",
   "nbconvert_exporter": "python",
   "pygments_lexer": "ipython3",
   "version": "3.6.6"
  }
 },
 "nbformat": 4,
 "nbformat_minor": 2
}
