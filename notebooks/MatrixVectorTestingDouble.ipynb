{
 "cells": [
  {
   "cell_type": "markdown",
   "metadata": {},
   "source": [
    "# License\n",
    "\n",
    "    Jupyter notebook for accessing CUDA\n",
    "    Copyright (C) 2018 Andre.Brodtkorb@ifi.uio.no, changed in October by André Brodtkorb\n",
    "\n",
    "    This program is free software: you can redistribute it and/or modify\n",
    "    it under the terms of the GNU General Public License as published by\n",
    "    the Free Software Foundation, either version 3 of the License, or\n",
    "    (at your option) any later version.\n",
    "\n",
    "    This program is distributed in the hope that it will be useful,\n",
    "    but WITHOUT ANY WARRANTY; without even the implied warranty of\n",
    "    MERCHANTABILITY or FITNESS FOR A PARTICULAR PURPOSE.  See the\n",
    "    GNU General Public License for more details.\n",
    "\n",
    "    You should have received a copy of the GNU General Public License\n",
    "    along with this program.  If not, see <http://www.gnu.org/licenses/>."
   ]
  },
  {
   "cell_type": "code",
   "execution_count": 9,
   "metadata": {},
   "outputs": [],
   "source": [
    "#Lets have matplotlib \"inline\"\n",
    "%matplotlib inline\n",
    "\n",
    "#Import packages we need\n",
    "import numpy as np\n",
    "import pycuda.compiler as cuda_compiler\n",
    "from pycuda.gpuarray import GPUArray\n",
    "import pycuda.driver as cuda_driver\n",
    "\n",
    "from matplotlib import pyplot as plt\n",
    "\n",
    "import IPythonMagic\n",
    "\n",
    "from Timer import Timer\n",
    "import logging"
   ]
  },
  {
   "cell_type": "code",
   "execution_count": 10,
   "metadata": {},
   "outputs": [],
   "source": [
    "import pytest\n",
    "from ipytest import run_pytest, clean_tests"
   ]
  },
  {
   "cell_type": "code",
   "execution_count": 11,
   "metadata": {},
   "outputs": [
    {
     "name": "stderr",
     "output_type": "stream",
     "text": [
      "Global logger already initialized!\n",
      "Registering context in user workspace\n",
      "Context already registered! Ignoring\n"
     ]
    }
   ],
   "source": [
    "%setup_logging\n",
    "%cuda_context_handler context"
   ]
  },
  {
   "cell_type": "code",
   "execution_count": 12,
   "metadata": {},
   "outputs": [],
   "source": [
    "cuda_kernel = \"\"\"\n",
    "__global__ void matrixVectorKernel(double* c, double* A, double* b, int a_rows, int a_cols) {\n",
    "    unsigned int j = blockIdx.x*blockDim.x + threadIdx.x;\n",
    "    \n",
    "    //Out of bounds check\n",
    "    if (j > a_rows) {\n",
    "        return;\n",
    "    }\n",
    "    \n",
    "    //Compute inner product of row of A with column of B\n",
    "    float sum = 0.0f;\n",
    "    for (int i=0; i<a_cols; ++i) {\n",
    "        unsigned int k = j*a_cols + i;\n",
    "        sum += A[k] * b[i];\n",
    "    }\n",
    "    \n",
    "    //Write to global memory\n",
    "    c[j] = sum;\n",
    "}\n",
    "\"\"\"\n",
    "module = cuda_compiler.SourceModule(cuda_kernel)\n",
    "kernel = module.get_function(\"matrixVectorKernel\");"
   ]
  },
  {
   "cell_type": "code",
   "execution_count": 31,
   "metadata": {},
   "outputs": [],
   "source": [
    "def gpuMatrixVector(a, b):\n",
    "    # synchonize to have a nice benchmarking and timing the actual time to do stuffs\n",
    "    context.synchronize()\n",
    "    \n",
    "    #Upload data to the device\n",
    "    #NOTE: We need to make sure that a=(a_rows, a_columns)\n",
    "    # and that b=(a_colmuns, 1) (column vector)\n",
    "    # and that c=(a_rows, 1)\n",
    "    \n",
    "    # add timer data allocation on gpu\n",
    "    with Timer(\"Time to allocate data on GPU\") as t:\n",
    "        a_g = GPUArray(a.shape, np.float64)\n",
    "        b_g = GPUArray(b.shape, np.float64)\n",
    "        c_g = GPUArray(a.shape[0], np.float64)\n",
    "        context.synchronize()\n",
    "    \n",
    "    #print(a)\n",
    "    #print(b)\n",
    "    \n",
    "    # add timer import a\n",
    "    with Timer(\"Time to import a\") as t:\n",
    "        a_g.set(a)\n",
    "        context.synchronize()\n",
    "    \n",
    "    # add timer import b\n",
    "    with Timer(\"Time to import a\") as t:\n",
    "        b_g.set(b)\n",
    "        context.synchronize()\n",
    "    \n",
    "    #NOTE: We need to change this so that the grid*block is x = 1, y = number of rows in A\n",
    "    block_size = (128, 1, 1) #These need to be [x, y, z]\n",
    "    grid_size = (int(np.ceil(a.shape[0] / 128)), 1, 1)\n",
    "    \n",
    "    print(\"Block size is \" + str(block_size))\n",
    "    print(\"Grid size is \" + str(grid_size))\n",
    "    \n",
    "    #Execute program on device\n",
    "    # add timer kernel execution\n",
    "    with Timer(\"Time for kernels execution\") as t:\n",
    "        kernel(c_g, a_g, b_g, np.int32(a.shape[0]), np.int32(a.shape[1]), block=block_size, grid=grid_size)\n",
    "        context.synchronize()\n",
    "    \n",
    "    #Copy data from device to host\n",
    "    # add timer allocation c\n",
    "    with Timer(\"Time to allocate c\") as t:\n",
    "        c = np.empty((a.shape[0],1), dtype=np.float64)\n",
    "        context.synchronize()\n",
    "    \n",
    "    # add timer download c\n",
    "    with Timer(\"Time to download c\") as t:\n",
    "        c_g.get(c)\n",
    "        context.synchronize()\n",
    "    \n",
    "    #print(c)\n",
    "    \n",
    "    #Return our computed matrix-vector product\n",
    "    return c"
   ]
  },
  {
   "cell_type": "code",
   "execution_count": 32,
   "metadata": {},
   "outputs": [
    {
     "name": "stdout",
     "output_type": "stream",
     "text": [
      "============================= test session starts ==============================\n",
      "platform linux -- Python 3.6.6, pytest-3.8.2, py-1.6.0, pluggy-0.7.1 -- /usr/bin/python3\n",
      "cachedir: .pytest_cache\n",
      "rootdir: /home/ubuntu/jupyter_notebooks/Colombi_Francesco/MilanoGPU2018/notebooks, inifile:\n",
      "collecting ... collected 1 item\n",
      "\n",
      "MatrixVectorTestingDouble.py::test_gpuMatrixVector <- <ipython-input-32-ffc1baf8abac> "
     ]
    },
    {
     "name": "stderr",
     "output_type": "stream",
     "text": [
      "Time to allocate data on GPU: 0.529766 ms\n",
      "Time to import a: 0.234365 ms\n",
      "Time to import a: 0.207424 ms\n",
      "Time for kernels execution: 0.425100 ms\n",
      "Time to allocate c: 0.034809 ms\n",
      "Time to download c: 0.267744 ms\n",
      "Time to allocate data on GPU: 0.337362 ms\n",
      "Time to import a: 0.143051 ms\n",
      "Time to import a: 0.456810 ms\n",
      "Time for kernels execution: 0.122547 ms\n",
      "Time to allocate c: 0.034094 ms\n",
      "Time to download c: 0.176191 ms\n",
      "Time to allocate data on GPU: 0.325918 ms\n",
      "Time to import a: 0.159979 ms\n",
      "Time to import a: 0.135183 ms\n",
      "Time for kernels execution: 0.138044 ms\n",
      "Time to allocate c: 0.033617 ms\n",
      "Time to download c: 0.181198 ms\n"
     ]
    },
    {
     "name": "stdout",
     "output_type": "stream",
     "text": [
      "PASSED [100%]\n",
      "\n",
      "=============================== warnings summary ===============================\n",
      "/home/ubuntu/.local/lib/python3.6/site-packages/ipykernel_launcher.py:51: DeprecationWarning: get() between arrays of different shape is deprecated and will be removed in PyCUDA 2017.x\n",
      "/home/ubuntu/.local/lib/python3.6/site-packages/ipykernel_launcher.py:51: DeprecationWarning: get() between arrays of different shape is deprecated and will be removed in PyCUDA 2017.x\n",
      "/home/ubuntu/.local/lib/python3.6/site-packages/ipykernel_launcher.py:51: DeprecationWarning: get() between arrays of different shape is deprecated and will be removed in PyCUDA 2017.x\n",
      "\n",
      "-- Docs: https://docs.pytest.org/en/latest/warnings.html\n",
      "===================== 1 passed, 3 warnings in 0.05 seconds =====================\n"
     ]
    },
    {
     "data": {
      "text/plain": [
       "0"
      ]
     },
     "execution_count": 32,
     "metadata": {},
     "output_type": "execute_result"
    }
   ],
   "source": [
    "clean_tests()\n",
    "\n",
    "def test_gpuMatrixVector():\n",
    "    #Let us test a matrix of size 1x1\n",
    "    a = np.ones((1,1), dtype=np.float64)\n",
    "    b = 2*np.ones((1,1), dtype=np.float64)\n",
    "    c = gpuMatrixVector(a, b)\n",
    "    print(c)\n",
    "    assert c == pytest.approx(2.0)\n",
    "    \n",
    "    #Test the inner product works\n",
    "    a = np.ones((1,2), dtype=np.float64)\n",
    "    b = 2*np.ones((2,1), dtype=np.float64)\n",
    "    c = gpuMatrixVector(a, b)\n",
    "    assert c == pytest.approx(4.0)\n",
    "    \n",
    "    #Test a general matrix\n",
    "    test_size = (4, 3)\n",
    "    a = np.random.random(test_size).astype(np.float64)\n",
    "    b = np.random.random((test_size[1], 1)).astype(np.float64)\n",
    "    c = gpuMatrixVector(a, b)\n",
    "    assert c == pytest.approx(np.dot(a,b))\n",
    "    \n",
    "run_pytest(filename='MatrixVectorTestingDouble.ipynb', pytest_options=['-vvv'])"
   ]
  },
  {
   "cell_type": "code",
   "execution_count": 33,
   "metadata": {},
   "outputs": [],
   "source": [
    "# dimension for test for computational time\n",
    "nx = np.array([200,400,800,1600,3200,6400])\n",
    "ny = nx\n",
    "\n",
    "times = np.empty(len(nx))"
   ]
  },
  {
   "cell_type": "code",
   "execution_count": 34,
   "metadata": {},
   "outputs": [
    {
     "name": "stderr",
     "output_type": "stream",
     "text": [
      "Time to init a and b on CPU: 12.111902 ms\n",
      "Time to allocate data on GPU: 0.507355 ms\n",
      "Time to import a: 0.828505 ms\n",
      "Time to import a: 0.202179 ms\n",
      "Time for kernels execution: 0.910997 ms\n",
      "Time to allocate c: 0.022888 ms\n",
      "/home/ubuntu/.local/lib/python3.6/site-packages/ipykernel_launcher.py:51: DeprecationWarning: get() between arrays of different shape is deprecated and will be removed in PyCUDA 2017.x\n",
      "Time to download c: 0.217438 ms\n",
      "Time to init a and b on CPU: 8.178949 ms\n",
      "Time to init a and b on CPU: 2.845764 ms\n",
      "Time to allocate data on GPU: 0.393629 ms\n",
      "Time to import a: 0.726223 ms\n",
      "Time to import a: 0.094175 ms\n",
      "Time for kernels execution: 0.416279 ms\n",
      "Time to allocate c: 0.029325 ms\n",
      "Time to download c: 0.134945 ms\n",
      "Time to init a and b on CPU: 6.770372 ms\n",
      "Time to init a and b on CPU: 12.346745 ms\n",
      "Time to allocate data on GPU: 0.507116 ms\n",
      "Time to import a: 1.064062 ms\n",
      "Time to import a: 0.097513 ms\n",
      "Time for kernels execution: 1.522303 ms\n",
      "Time to allocate c: 0.024080 ms\n",
      "Time to download c: 0.138283 ms\n",
      "Time to init a and b on CPU: 8.817673 ms\n",
      "Time to init a and b on CPU: 49.870014 ms\n",
      "Time to allocate data on GPU: 0.543594 ms\n",
      "Time to import a: 3.061533 ms\n",
      "Time to import a: 0.197411 ms\n",
      "Time for kernels execution: 1.397133 ms\n",
      "Time to allocate c: 0.024319 ms\n",
      "Time to download c: 0.132322 ms\n",
      "Time to init a and b on CPU: 13.520956 ms\n"
     ]
    },
    {
     "name": "stdout",
     "output_type": "stream",
     "text": [
      "N = 200\n",
      "Block size is (128, 1, 1)\n",
      "Grid size is (2, 1, 1)\n",
      "N = 400\n",
      "Block size is (128, 1, 1)\n",
      "Grid size is (4, 1, 1)\n",
      "N = 800\n",
      "Block size is (128, 1, 1)\n",
      "Grid size is (7, 1, 1)\n",
      "N = 1600\n",
      "Block size is (128, 1, 1)\n",
      "Grid size is (13, 1, 1)\n",
      "N = 3200\n"
     ]
    },
    {
     "name": "stderr",
     "output_type": "stream",
     "text": [
      "Time to init a and b on CPU: 208.289862 ms\n",
      "Time to allocate data on GPU: 0.849962 ms\n",
      "Time to import a: 11.268139 ms\n",
      "Time to import a: 0.681162 ms\n",
      "Time for kernels execution: 3.729343 ms\n",
      "Time to allocate c: 0.024796 ms\n",
      "Time to download c: 1.266718 ms\n",
      "Time to init a and b on CPU: 32.721043 ms\n"
     ]
    },
    {
     "name": "stdout",
     "output_type": "stream",
     "text": [
      "Block size is (128, 1, 1)\n",
      "Grid size is (25, 1, 1)\n",
      "N = 6400\n"
     ]
    },
    {
     "name": "stderr",
     "output_type": "stream",
     "text": [
      "Time to init a and b on CPU: 820.118189 ms\n",
      "Time to allocate data on GPU: 1.070499 ms\n",
      "Time to import a: 55.945158 ms\n",
      "Time to import a: 0.253201 ms\n",
      "Time for kernels execution: 14.274359 ms\n",
      "Time to allocate c: 0.040054 ms\n",
      "Time to download c: 0.374079 ms\n",
      "Time to init a and b on CPU: 118.479013 ms\n"
     ]
    },
    {
     "name": "stdout",
     "output_type": "stream",
     "text": [
      "Block size is (128, 1, 1)\n",
      "Grid size is (50, 1, 1)\n",
      "[  8.17894936   6.77037239   8.81767273  13.52095604  32.72104263\n",
      " 118.47901344]\n"
     ]
    },
    {
     "name": "stderr",
     "output_type": "stream",
     "text": [
      "/usr/lib/python3/dist-packages/matplotlib/figure.py:418: UserWarning: matplotlib is currently using a non-GUI backend, so cannot show the figure\n",
      "  \"matplotlib is currently using a non-GUI backend, \"\n"
     ]
    },
    {
     "data": {
      "image/png": "[encoded data removed]",
      "text/plain": [
       "<matplotlib.figure.Figure at 0x7f7724429f28>"
      ]
     },
     "metadata": {
      "needs_background": "light"
     },
     "output_type": "display_data"
    }
   ],
   "source": [
    "for i in range(len(nx)):    \n",
    "    #Size of our test\n",
    "    #test_size = (4, 3)\n",
    "    print(\"N = \" + str(nx[i]))\n",
    "    test_size = (nx[i], ny[i])\n",
    "    \n",
    "    #Create test input / output data\n",
    "    with Timer(\"Time to init a and b on CPU\") as t:\n",
    "        a = np.random.random(test_size).astype(np.float64)\n",
    "        b = np.random.random((test_size[1], 1)).astype(np.float64)\n",
    "    with Timer(\"Time to init a and b on CPU\") as t:\n",
    "        c = gpuMatrixVector(a, b)\n",
    "        \n",
    "    times[i] = t.msecs\n",
    "\n",
    "\n",
    "print(times)\n",
    "    \n",
    "fig = plt.figure()\n",
    "plt.subplot(1,3,1)\n",
    "plt.imshow(a)\n",
    "plt.subplot(1,3,2)\n",
    "plt.imshow(b)\n",
    "plt.subplot(1,3,3)\n",
    "plt.imshow(c)\n",
    "fig.show()"
   ]
  },
  {
   "cell_type": "code",
   "execution_count": 35,
   "metadata": {},
   "outputs": [
    {
     "name": "stdout",
     "output_type": "stream",
     "text": [
      "Sad = 9.709705633878456865204498171806\n",
      "Per element error: 0.001517141505293509\n"
     ]
    }
   ],
   "source": [
    "#Compute reference using Numpy\n",
    "c_ref = np.dot(a, b)\n",
    "\n",
    "#Sum of absolute differences\n",
    "sad = np.sum(np.abs(c - c_ref))\n",
    "\n",
    "#Print result\n",
    "# print(\"C   = \", c)\n",
    "# print(\"Ref = \", c_ref)\n",
    "print(\"Sad = %.30f\" % sad)\n",
    "print(\"Per element error: \" + str(sad / test_size[1]))"
   ]
  },
  {
   "cell_type": "code",
   "execution_count": 36,
   "metadata": {},
   "outputs": [
    {
     "data": {
      "text/plain": [
       "<matplotlib.image.AxesImage at 0x7f77266e3320>"
      ]
     },
     "execution_count": 36,
     "metadata": {},
     "output_type": "execute_result"
    },
    {
     "data": {
      "image/png": "[encoded data removed]",
      "text/plain": [
       "<matplotlib.figure.Figure at 0x7f7724411ef0>"
      ]
     },
     "metadata": {
      "needs_background": "light"
     },
     "output_type": "display_data"
    }
   ],
   "source": [
    "fig = plt.figure(figsize=(12,8))\n",
    "plt.subplot(1,2,1)\n",
    "plt.imshow(c)\n",
    "plt.subplot(1,2,2)\n",
    "plt.imshow(c_ref)"
   ]
  },
  {
   "cell_type": "code",
   "execution_count": null,
   "metadata": {},
   "outputs": [],
   "source": []
  }
 ],
 "metadata": {
  "kernelspec": {
   "display_name": "Python 3",
   "language": "python",
   "name": "python3"
  },
  "language_info": {
   "codemirror_mode": {
    "name": "ipython",
    "version": 3
   },
   "file_extension": ".py",
   "mimetype": "text/x-python",
   "name": "python",
   "nbconvert_exporter": "python",
   "pygments_lexer": "ipython3",
   "version": "3.6.6"
  }
 },
 "nbformat": 4,
 "nbformat_minor": 2
}
